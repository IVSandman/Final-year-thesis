{
 "cells": [
  {
   "cell_type": "code",
   "execution_count": 5,
   "id": "87acfd86-b1f7-4ec9-b1b4-01d5b63bf435",
   "metadata": {},
   "outputs": [
    {
     "name": "stdout",
     "output_type": "stream",
     "text": [
      "Number of unique k-mers: 64\n",
      "Label mapping: {'AHPND': 0, 'WSSV': 1, 'healthy': 2}\n",
      "K-mer feature matrix and labels saved to /home/user/torch_shrimp/until-tools/mod/k-mer/test5101.csv\n"
     ]
    }
   ],
   "source": [
    "import pandas as pd\n",
    "import numpy as np\n",
    "from sklearn.preprocessing import LabelEncoder\n",
    "\n",
    "def compute_kmer_scores_to_csv(input_csv, output_csv, kmer_column='K-mer', label_column='status'):\n",
    "    \"\"\"\n",
    "    Compute k-mer frequency-based scores for each DNA sequence in a CSV file\n",
    "    and save the resulting feature matrix and labels into a new CSV file.\n",
    "\n",
    "    Parameters:\n",
    "        input_csv (str): Path to the input CSV file.\n",
    "        output_csv (str): Path to save the output CSV file.\n",
    "        kmer_column (str): Column name containing k-mer sequences.\n",
    "        label_column (str): Column name containing labels.\n",
    "    \"\"\"\n",
    "    # Load the CSV file\n",
    "    df = pd.read_csv(input_csv)\n",
    "    \n",
    "    # Get the unique k-mers across all sequences\n",
    "    all_kmers = set()\n",
    "    for seq in df[kmer_column]:\n",
    "        all_kmers.update(seq.split())\n",
    "    kmer_vocab = sorted(all_kmers)  # Consistent ordering\n",
    "    \n",
    "    # Create a mapping from k-mers to indices\n",
    "    kmer_to_index = {kmer: idx for idx, kmer in enumerate(kmer_vocab)}\n",
    "    vocab_size = len(kmer_vocab)\n",
    "    print(f\"Number of unique k-mers: {vocab_size}\")\n",
    "    \n",
    "    # Compute k-mer frequency vectors\n",
    "    feature_matrix = []\n",
    "    for seq in df[kmer_column]:\n",
    "        # Initialize a frequency vector for the sequence\n",
    "        kmer_counts = np.zeros(vocab_size, dtype=np.float32)\n",
    "        for kmer in seq.split():\n",
    "            kmer_counts[kmer_to_index[kmer]] += 1\n",
    "        # Normalize frequencies\n",
    "        kmer_counts /= kmer_counts.sum()  # Ensure probabilities sum to 1\n",
    "        feature_matrix.append(kmer_counts)\n",
    "    \n",
    "    # Convert to DataFrame\n",
    "    feature_df = pd.DataFrame(feature_matrix, columns=kmer_vocab)\n",
    "    \n",
    "    # Encode the labels as integers\n",
    "    label_encoder = LabelEncoder()\n",
    "    feature_df[label_column] = label_encoder.fit_transform(df[label_column])\n",
    "    label_mapping = dict(zip(label_encoder.classes_, label_encoder.transform(label_encoder.classes_)))\n",
    "    print(f\"Label mapping: {label_mapping}\")\n",
    "    \n",
    "    # Save the feature matrix and labels to a new CSV file\n",
    "    feature_df.to_csv(output_csv, index=False)\n",
    "    print(f\"K-mer feature matrix and labels saved to {output_csv}\")\n",
    "\n",
    "# Example usage\n",
    "input_csv = '/home/user/torch_shrimp/dataset/Mixed/Cleansed-kmer/kmer_test5101.csv'\n",
    "output_csv = '/home/user/torch_shrimp/until-tools/mod/k-mer/test5101.csv'\n",
    "compute_kmer_scores_to_csv(input_csv, output_csv)\n"
   ]
  },
  {
   "cell_type": "code",
   "execution_count": null,
   "id": "63208b57-0c68-4e16-9b6f-f8a733034e4d",
   "metadata": {},
   "outputs": [],
   "source": []
  }
 ],
 "metadata": {
  "kernelspec": {
   "display_name": "Python 3 (ipykernel)",
   "language": "python",
   "name": "python3"
  },
  "language_info": {
   "codemirror_mode": {
    "name": "ipython",
    "version": 3
   },
   "file_extension": ".py",
   "mimetype": "text/x-python",
   "name": "python",
   "nbconvert_exporter": "python",
   "pygments_lexer": "ipython3",
   "version": "3.10.12"
  }
 },
 "nbformat": 4,
 "nbformat_minor": 5
}
